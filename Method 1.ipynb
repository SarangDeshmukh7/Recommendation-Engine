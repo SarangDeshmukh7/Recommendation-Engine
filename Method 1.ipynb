{
 "cells": [
  {
   "cell_type": "code",
   "execution_count": 2,
   "metadata": {},
   "outputs": [
    {
     "data": {
      "text/html": [
       "<div>\n",
       "<style scoped>\n",
       "    .dataframe tbody tr th:only-of-type {\n",
       "        vertical-align: middle;\n",
       "    }\n",
       "\n",
       "    .dataframe tbody tr th {\n",
       "        vertical-align: top;\n",
       "    }\n",
       "\n",
       "    .dataframe thead th {\n",
       "        text-align: right;\n",
       "    }\n",
       "</style>\n",
       "<table border=\"1\" class=\"dataframe\">\n",
       "  <thead>\n",
       "    <tr style=\"text-align: right;\">\n",
       "      <th></th>\n",
       "      <th>movieId</th>\n",
       "      <th>title</th>\n",
       "      <th>genres</th>\n",
       "    </tr>\n",
       "  </thead>\n",
       "  <tbody>\n",
       "    <tr>\n",
       "      <th>5015</th>\n",
       "      <td>5111</td>\n",
       "      <td>Good Son, The (1993)</td>\n",
       "      <td>Drama|Thriller</td>\n",
       "    </tr>\n",
       "    <tr>\n",
       "      <th>10003</th>\n",
       "      <td>32906</td>\n",
       "      <td>Ascent, The (Voskhozhdeniye) (1977)</td>\n",
       "      <td>Drama|War</td>\n",
       "    </tr>\n",
       "    <tr>\n",
       "      <th>16509</th>\n",
       "      <td>83381</td>\n",
       "      <td>Seven Thieves (1960)</td>\n",
       "      <td>Crime|Drama</td>\n",
       "    </tr>\n",
       "    <tr>\n",
       "      <th>846</th>\n",
       "      <td>861</td>\n",
       "      <td>Supercop (Police Story 3: Supercop) (Jing cha ...</td>\n",
       "      <td>Action|Comedy|Crime|Thriller</td>\n",
       "    </tr>\n",
       "    <tr>\n",
       "      <th>20155</th>\n",
       "      <td>99258</td>\n",
       "      <td>Who Wants to Kill Jessie? (Kdo chce zabít Jess...</td>\n",
       "      <td>Comedy|Sci-Fi</td>\n",
       "    </tr>\n",
       "  </tbody>\n",
       "</table>\n",
       "</div>"
      ],
      "text/plain": [
       "       movieId                                              title  \\\n",
       "5015      5111                               Good Son, The (1993)   \n",
       "10003    32906                Ascent, The (Voskhozhdeniye) (1977)   \n",
       "16509    83381                               Seven Thieves (1960)   \n",
       "846        861  Supercop (Police Story 3: Supercop) (Jing cha ...   \n",
       "20155    99258  Who Wants to Kill Jessie? (Kdo chce zabít Jess...   \n",
       "\n",
       "                             genres  \n",
       "5015                 Drama|Thriller  \n",
       "10003                     Drama|War  \n",
       "16509                   Crime|Drama  \n",
       "846    Action|Comedy|Crime|Thriller  \n",
       "20155                 Comedy|Sci-Fi  "
      ]
     },
     "metadata": {},
     "output_type": "display_data"
    },
    {
     "name": "stdout",
     "output_type": "stream",
     "text": [
      "Displaying 5 of the total 27278 data points\n"
     ]
    },
    {
     "data": {
      "text/html": [
       "<div>\n",
       "<style scoped>\n",
       "    .dataframe tbody tr th:only-of-type {\n",
       "        vertical-align: middle;\n",
       "    }\n",
       "\n",
       "    .dataframe tbody tr th {\n",
       "        vertical-align: top;\n",
       "    }\n",
       "\n",
       "    .dataframe thead th {\n",
       "        text-align: right;\n",
       "    }\n",
       "</style>\n",
       "<table border=\"1\" class=\"dataframe\">\n",
       "  <thead>\n",
       "    <tr style=\"text-align: right;\">\n",
       "      <th></th>\n",
       "      <th>userId</th>\n",
       "      <th>movieId</th>\n",
       "      <th>rating</th>\n",
       "      <th>timestamp</th>\n",
       "    </tr>\n",
       "  </thead>\n",
       "  <tbody>\n",
       "    <tr>\n",
       "      <th>7937017</th>\n",
       "      <td>54688</td>\n",
       "      <td>47610</td>\n",
       "      <td>3.5</td>\n",
       "      <td>1370061037</td>\n",
       "    </tr>\n",
       "    <tr>\n",
       "      <th>11079211</th>\n",
       "      <td>76564</td>\n",
       "      <td>1101</td>\n",
       "      <td>3.0</td>\n",
       "      <td>946438936</td>\n",
       "    </tr>\n",
       "    <tr>\n",
       "      <th>15516997</th>\n",
       "      <td>107317</td>\n",
       "      <td>1270</td>\n",
       "      <td>0.5</td>\n",
       "      <td>1162693457</td>\n",
       "    </tr>\n",
       "    <tr>\n",
       "      <th>17771935</th>\n",
       "      <td>122871</td>\n",
       "      <td>5313</td>\n",
       "      <td>3.5</td>\n",
       "      <td>1230660174</td>\n",
       "    </tr>\n",
       "    <tr>\n",
       "      <th>16371933</th>\n",
       "      <td>113342</td>\n",
       "      <td>780</td>\n",
       "      <td>3.0</td>\n",
       "      <td>1356738841</td>\n",
       "    </tr>\n",
       "  </tbody>\n",
       "</table>\n",
       "</div>"
      ],
      "text/plain": [
       "          userId  movieId  rating   timestamp\n",
       "7937017    54688    47610     3.5  1370061037\n",
       "11079211   76564     1101     3.0   946438936\n",
       "15516997  107317     1270     0.5  1162693457\n",
       "17771935  122871     5313     3.5  1230660174\n",
       "16371933  113342      780     3.0  1356738841"
      ]
     },
     "metadata": {},
     "output_type": "display_data"
    },
    {
     "name": "stdout",
     "output_type": "stream",
     "text": [
      "Displaying 5 of the total 20000263 data points\n"
     ]
    }
   ],
   "source": [
    "import pandas as pd\n",
    "import numpy as np\n",
    "\n",
    "df_movies = pd.read_csv('ml-20m/movies.csv')\n",
    "df_ratings = pd.read_csv('ml-20m/ratings.csv')\n",
    "\n",
    "movieId_to_name = pd.Series(df_movies.title.values, \n",
    "                            index = df_movies.movieId.values).to_dict()\n",
    "name_to_movieId = pd.Series(df_movies.movieId.values, \n",
    "                            index = df_movies.title).to_dict()\n",
    "\n",
    "# Randomly display 5 records in the dataframe\n",
    "for df in list((df_movies, df_ratings)):\n",
    "    rand_idx = np.random.choice(len(df), 5, replace=False)\n",
    "    display(df.iloc[rand_idx,:])\n",
    "    print(\"Displaying 5 of the total \"+str(len(df))+\" data points\")"
   ]
  },
  {
   "cell_type": "code",
   "execution_count": 3,
   "metadata": {},
   "outputs": [
    {
     "data": {
      "image/png": "[encoded data removed]",
      "text/plain": [
       "<matplotlib.figure.Figure at 0x25c2e091438>"
      ]
     },
     "metadata": {},
     "output_type": "display_data"
    }
   ],
   "source": [
    "import matplotlib.pyplot as plt\n",
    "import plotly.plotly as py\n",
    "%matplotlib inline\n",
    "\n",
    "plt.figure(figsize=(8, 6))\n",
    "ax = plt.subplot(111)\n",
    "ax.set_title(\"Distribution of Movie Ratings\", fontsize=16)\n",
    "ax.spines[\"top\"].set_visible(False)  \n",
    "ax.spines[\"right\"].set_visible(False)  \n",
    "  \n",
    "plt.xticks(fontsize=12)  \n",
    "plt.yticks(fontsize=12)  \n",
    "  \n",
    "plt.xlabel(\"Movie Rating\", fontsize=14)  \n",
    "plt.ylabel(\"Count\", fontsize=14)  \n",
    "  \n",
    "plt.hist(df_ratings['rating'], color=\"#3F5D7D\")  \n",
    "\n",
    "plt.show()"
   ]
  },
  {
   "cell_type": "code",
   "execution_count": 4,
   "metadata": {
    "collapsed": true
   },
   "outputs": [],
   "source": [
    "from sklearn.model_selection import train_test_split\n",
    "\n",
    "df_ratings_train, df_ratings_test= train_test_split(df_ratings,\n",
    "                                                    stratify=df_ratings['userId'],\n",
    "                                                    random_state = 15688,\n",
    "                                                    test_size=0.30)"
   ]
  },
  {
   "cell_type": "code",
   "execution_count": 5,
   "metadata": {},
   "outputs": [
    {
     "name": "stdout",
     "output_type": "stream",
     "text": [
      "Number of training data: 14000184\n",
      "Number of test data: 6000079\n"
     ]
    }
   ],
   "source": [
    "print(\"Number of training data: \"+str(len(df_ratings_train)))\n",
    "print(\"Number of test data: \"+str(len(df_ratings_test)))"
   ]
  },
  {
   "cell_type": "code",
   "execution_count": 6,
   "metadata": {
    "collapsed": true
   },
   "outputs": [],
   "source": [
    "def rating_splitter(df):\n",
    "    \n",
    "    df['liked'] = np.where(df['rating']>=4, 1, 0)\n",
    "    df['movieId'] = df['movieId'].astype('str')\n",
    "    gp_user_like = df.groupby(['liked', 'userId'])\n",
    "\n",
    "    return ([gp_user_like.get_group(gp)['movieId'].tolist() for gp in gp_user_like.groups])"
   ]
  },
  {
   "cell_type": "code",
   "execution_count": 7,
   "metadata": {
    "collapsed": true
   },
   "outputs": [],
   "source": [
    "pd.options.mode.chained_assignment = None\n",
    "splitted_movies = rating_splitter(df_ratings_train)"
   ]
  },
  {
   "cell_type": "code",
   "execution_count": 8,
   "metadata": {
    "collapsed": true
   },
   "outputs": [],
   "source": [
    "import warnings\n",
    "warnings.filterwarnings(action='ignore', category=UserWarning, module='gensim')\n",
    "\n",
    "import gensim\n",
    "assert gensim.models.word2vec.FAST_VERSION > -1"
   ]
  },
  {
   "cell_type": "markdown",
   "metadata": {},
   "source": [
    "The below code shuffles the training data:"
   ]
  },
  {
   "cell_type": "code",
   "execution_count": 19,
   "metadata": {
    "collapsed": true
   },
   "outputs": [],
   "source": [
    "import random\n",
    "\n",
    "for movie_list in splitted_movies:\n",
    "    random.shuffle(movie_list)"
   ]
  },
  {
   "cell_type": "code",
   "execution_count": 55,
   "metadata": {},
   "outputs": [
    {
     "name": "stdout",
     "output_type": "stream",
     "text": [
      "Time passed: 2:12:26.134283\n"
     ]
    }
   ],
   "source": [
    "from gensim.models import Word2Vec\n",
    "import datetime\n",
    "start = datetime.datetime.now()\n",
    "\n",
    "model = Word2Vec(sentences = splitted_movies, # We will supply the pre-processed list of moive lists to this parameter\n",
    "                 iter = 5, # epoch\n",
    "                 min_count = 10, # a movie has to appear more than 10 times to be keeped\n",
    "                 size = 200, # size of the hidden layer\n",
    "                 workers = 4, # specify the number of threads to be used for training\n",
    "                 sg = 1, # Defines the training algorithm. We will use skip-gram so 1 is chosen.\n",
    "                 hs = 0, # Set to 0, as we are applying negative sampling.\n",
    "                 negative = 5, # If > 0, negative sampling will be used. We will use a value of 5.\n",
    "                 window = 9999999)\n",
    "\n",
    "print(\"Time passed: \" + str(datetime.datetime.now()-start))\n",
    "#Word2Vec.save('item2vec_20180327')"
   ]
  },
  {
   "cell_type": "code",
   "execution_count": 40,
   "metadata": {},
   "outputs": [
    {
     "name": "stdout",
     "output_type": "stream",
     "text": [
      "Time passed: 5:32:50.270232\n"
     ]
    }
   ],
   "source": [
    "from gensim.models import Word2Vec\n",
    "import datetime\n",
    "start = datetime.datetime.now()\n",
    "\n",
    "model_w2v_sg = Word2Vec(sentences = splitted_movies,\n",
    "                        iter = 10, # epoch\n",
    "                        min_count = 5, # a movie has to appear more than 5 times to be keeped\n",
    "                        size = 300, # size of the hidden layer\n",
    "                        workers = 4, # specify the number of threads to be used for training\n",
    "                        sg = 1,\n",
    "                        hs = 0,\n",
    "                        negative = 5,\n",
    "                        window = 9999999)\n",
    "\n",
    "print(\"Time passed: \" + str(datetime.datetime.now()-start))\n",
    "model_w2v_sg.save('item2vec_word2vecSg_20180328')\n",
    "del model_w2v_sg"
   ]
  },
  {
   "cell_type": "code",
   "execution_count": 16,
   "metadata": {
    "collapsed": true
   },
   "outputs": [],
   "source": [
    "import warnings\n",
    "warnings.filterwarnings(action='ignore', category=UserWarning, module='gensim')\n",
    "\n",
    "from gensim.models import Word2Vec\n",
    "model = Word2Vec.load('item2vec_20180327')\n",
    "word_vectors = model.wv\n",
    "# del model # uncomment this line will delete the model"
   ]
  },
  {
   "cell_type": "code",
   "execution_count": 17,
   "metadata": {
    "collapsed": true
   },
   "outputs": [],
   "source": [
    "import requests\n",
    "import re\n",
    "from bs4 import BeautifulSoup\n",
    "\n",
    "def refine_search(search_term):\n",
    "    \"\"\"\n",
    "    Refine the movie name to be recognized by the recommender\n",
    "    Args:\n",
    "        search_term (string): Search Term\n",
    "\n",
    "    Returns:\n",
    "        refined_term (string): a name that can be search in the dataset\n",
    "    \"\"\"\n",
    "    target_url = \"http://www.imdb.com/find?ref_=nv_sr_fn&q=\"+\"+\".join(search_term.split())+\"&s=tt\"\n",
    "    html = requests.get(target_url).content\n",
    "    parsed_html = BeautifulSoup(html, 'html.parser')\n",
    "    for tag in parsed_html.find_all('td', class_=\"result_text\"):\n",
    "        search_result = re.findall('fn_tt_tt_1\">(.*)</a>(.*)</td>', str(tag))\n",
    "        if search_result:\n",
    "            if search_result[0][0].split()[0]==\"The\":\n",
    "                str_frac = \" \".join(search_result[0][0].split()[1:])+\", \"+search_result[0][0].split()[0]\n",
    "                refined_name = str_frac+\" \"+search_result[0][1].strip()\n",
    "            else:\n",
    "                refined_name = search_result[0][0]+\" \"+search_result[0][1].strip()\n",
    "    return refined_name\n",
    "\n",
    "def produce_list_of_movieId(list_of_movieName, useRefineSearch=False):\n",
    "    \"\"\"\n",
    "    Turn a list of movie name into a list of movie ids. The movie names has to be exactly the same as they are in the dataset.\n",
    "    Ambiguous movie names can be supplied if useRefineSearch is set to True\n",
    "    \n",
    "    Args:\n",
    "        list_of_movieName (List): A list of movie names.\n",
    "        useRefineSearch (boolean): Ambiguous movie names can be supplied if useRefineSearch is set to True\n",
    "\n",
    "    Returns:\n",
    "        list_of_movie_id (List of strings): A list of movie ids.\n",
    "    \"\"\"\n",
    "    list_of_movie_id = []\n",
    "    for movieName in list_of_movieName:\n",
    "        if useRefineSearch:\n",
    "            movieName = refine_search(movieName)\n",
    "            print(\"Refined Name: \"+movieName)\n",
    "        if movieName in name_to_movieId.keys():\n",
    "            list_of_movie_id.append(str(name_to_movieId[movieName]))\n",
    "    return list_of_movie_id\n",
    "\n",
    "def recommender(positive_list=None, negative_list=None, useRefineSearch=False, topn=20):\n",
    "    recommend_movie_ls = []\n",
    "    if positive_list:\n",
    "        positive_list = produce_list_of_movieId(positive_list, useRefineSearch)\n",
    "    if negative_list:\n",
    "        negative_list = produce_list_of_movieId(negative_list, useRefineSearch)\n",
    "    for movieId, prob in model.wv.most_similar_cosmul(positive=positive_list, negative=negative_list, topn=topn):\n",
    "        recommend_movie_ls.append(movieId)\n",
    "    return recommend_movie_ls"
   ]
  },
  {
   "cell_type": "code",
   "execution_count": 18,
   "metadata": {},
   "outputs": [
    {
     "name": "stdout",
     "output_type": "stream",
     "text": [
      "Refined Name: Up (2009)\n",
      "Recommendation Result based on \"Up (2009)\":\n"
     ]
    },
    {
     "data": {
      "text/html": [
       "<div>\n",
       "<style scoped>\n",
       "    .dataframe tbody tr th:only-of-type {\n",
       "        vertical-align: middle;\n",
       "    }\n",
       "\n",
       "    .dataframe tbody tr th {\n",
       "        vertical-align: top;\n",
       "    }\n",
       "\n",
       "    .dataframe thead th {\n",
       "        text-align: right;\n",
       "    }\n",
       "</style>\n",
       "<table border=\"1\" class=\"dataframe\">\n",
       "  <thead>\n",
       "    <tr style=\"text-align: right;\">\n",
       "      <th></th>\n",
       "      <th>movieId</th>\n",
       "      <th>title</th>\n",
       "      <th>genres</th>\n",
       "    </tr>\n",
       "  </thead>\n",
       "  <tbody>\n",
       "    <tr>\n",
       "      <th>11614</th>\n",
       "      <td>50872</td>\n",
       "      <td>Ratatouille (2007)</td>\n",
       "      <td>Animation|Children|Drama</td>\n",
       "    </tr>\n",
       "    <tr>\n",
       "      <th>12746</th>\n",
       "      <td>60069</td>\n",
       "      <td>WALL·E (2008)</td>\n",
       "      <td>Adventure|Animation|Children|Romance|Sci-Fi</td>\n",
       "    </tr>\n",
       "    <tr>\n",
       "      <th>14592</th>\n",
       "      <td>72998</td>\n",
       "      <td>Avatar (2009)</td>\n",
       "      <td>Action|Adventure|Sci-Fi|IMAX</td>\n",
       "    </tr>\n",
       "    <tr>\n",
       "      <th>15031</th>\n",
       "      <td>76093</td>\n",
       "      <td>How to Train Your Dragon (2010)</td>\n",
       "      <td>Adventure|Animation|Children|Fantasy|IMAX</td>\n",
       "    </tr>\n",
       "    <tr>\n",
       "      <th>15401</th>\n",
       "      <td>78499</td>\n",
       "      <td>Toy Story 3 (2010)</td>\n",
       "      <td>Adventure|Animation|Children|Comedy|Fantasy|IMAX</td>\n",
       "    </tr>\n",
       "  </tbody>\n",
       "</table>\n",
       "</div>"
      ],
      "text/plain": [
       "       movieId                            title  \\\n",
       "11614    50872               Ratatouille (2007)   \n",
       "12746    60069                    WALL·E (2008)   \n",
       "14592    72998                    Avatar (2009)   \n",
       "15031    76093  How to Train Your Dragon (2010)   \n",
       "15401    78499               Toy Story 3 (2010)   \n",
       "\n",
       "                                                 genres  \n",
       "11614                          Animation|Children|Drama  \n",
       "12746       Adventure|Animation|Children|Romance|Sci-Fi  \n",
       "14592                      Action|Adventure|Sci-Fi|IMAX  \n",
       "15031         Adventure|Animation|Children|Fantasy|IMAX  \n",
       "15401  Adventure|Animation|Children|Comedy|Fantasy|IMAX  "
      ]
     },
     "metadata": {},
     "output_type": "display_data"
    }
   ],
   "source": [
    "ls = recommender(positive_list=[\"UP\"], useRefineSearch=True, topn=5)\n",
    "print('Recommendation Result based on \"Up (2009)\":')\n",
    "display(df_movies[df_movies['movieId'].isin(ls)])"
   ]
  },
  {
   "cell_type": "code",
   "execution_count": 20,
   "metadata": {},
   "outputs": [
    {
     "name": "stdout",
     "output_type": "stream",
     "text": [
      "Refined Name: Matrix, The (1999)\n",
      "Refined Name: Django Unchained (2012)\n",
      "Recommendation Result based on \"The Matrix (1999)\" + \"\"Django Unchained (2012)\":\n"
     ]
    },
    {
     "data": {
      "text/html": [
       "<div>\n",
       "<style scoped>\n",
       "    .dataframe tbody tr th:only-of-type {\n",
       "        vertical-align: middle;\n",
       "    }\n",
       "\n",
       "    .dataframe tbody tr th {\n",
       "        vertical-align: top;\n",
       "    }\n",
       "\n",
       "    .dataframe thead th {\n",
       "        text-align: right;\n",
       "    }\n",
       "</style>\n",
       "<table border=\"1\" class=\"dataframe\">\n",
       "  <thead>\n",
       "    <tr style=\"text-align: right;\">\n",
       "      <th></th>\n",
       "      <th>movieId</th>\n",
       "      <th>title</th>\n",
       "      <th>genres</th>\n",
       "    </tr>\n",
       "  </thead>\n",
       "  <tbody>\n",
       "    <tr>\n",
       "      <th>11401</th>\n",
       "      <td>48780</td>\n",
       "      <td>Prestige, The (2006)</td>\n",
       "      <td>Drama|Mystery|Sci-Fi|Thriller</td>\n",
       "    </tr>\n",
       "    <tr>\n",
       "      <th>12525</th>\n",
       "      <td>58559</td>\n",
       "      <td>Dark Knight, The (2008)</td>\n",
       "      <td>Action|Crime|Drama|IMAX</td>\n",
       "    </tr>\n",
       "    <tr>\n",
       "      <th>13102</th>\n",
       "      <td>63082</td>\n",
       "      <td>Slumdog Millionaire (2008)</td>\n",
       "      <td>Crime|Drama|Romance</td>\n",
       "    </tr>\n",
       "    <tr>\n",
       "      <th>13647</th>\n",
       "      <td>68157</td>\n",
       "      <td>Inglourious Basterds (2009)</td>\n",
       "      <td>Action|Drama|War</td>\n",
       "    </tr>\n",
       "    <tr>\n",
       "      <th>14009</th>\n",
       "      <td>70286</td>\n",
       "      <td>District 9 (2009)</td>\n",
       "      <td>Mystery|Sci-Fi|Thriller</td>\n",
       "    </tr>\n",
       "    <tr>\n",
       "      <th>15534</th>\n",
       "      <td>79132</td>\n",
       "      <td>Inception (2010)</td>\n",
       "      <td>Action|Crime|Drama|Mystery|Sci-Fi|Thriller|IMAX</td>\n",
       "    </tr>\n",
       "    <tr>\n",
       "      <th>18312</th>\n",
       "      <td>91529</td>\n",
       "      <td>Dark Knight Rises, The (2012)</td>\n",
       "      <td>Action|Adventure|Crime|IMAX</td>\n",
       "    </tr>\n",
       "  </tbody>\n",
       "</table>\n",
       "</div>"
      ],
      "text/plain": [
       "       movieId                          title  \\\n",
       "11401    48780           Prestige, The (2006)   \n",
       "12525    58559        Dark Knight, The (2008)   \n",
       "13102    63082     Slumdog Millionaire (2008)   \n",
       "13647    68157    Inglourious Basterds (2009)   \n",
       "14009    70286              District 9 (2009)   \n",
       "15534    79132               Inception (2010)   \n",
       "18312    91529  Dark Knight Rises, The (2012)   \n",
       "\n",
       "                                                genres  \n",
       "11401                    Drama|Mystery|Sci-Fi|Thriller  \n",
       "12525                          Action|Crime|Drama|IMAX  \n",
       "13102                              Crime|Drama|Romance  \n",
       "13647                                 Action|Drama|War  \n",
       "14009                          Mystery|Sci-Fi|Thriller  \n",
       "15534  Action|Crime|Drama|Mystery|Sci-Fi|Thriller|IMAX  \n",
       "18312                      Action|Adventure|Crime|IMAX  "
      ]
     },
     "metadata": {},
     "output_type": "display_data"
    }
   ],
   "source": [
    "ls = recommender(positive_list=[\"The Matrix\", \"Django Unchained\"], useRefineSearch=True, topn=7)\n",
    "print('Recommendation Result based on \"The Matrix (1999)\" + \"\"Django Unchained (2012)\":')\n",
    "display(df_movies[df_movies['movieId'].isin(ls)])"
   ]
  }
 ],
 "metadata": {
  "kernelspec": {
   "display_name": "Python 3",
   "language": "python",
   "name": "python3"
  },
  "language_info": {
   "codemirror_mode": {
    "name": "ipython",
    "version": 3
   },
   "file_extension": ".py",
   "mimetype": "text/x-python",
   "name": "python",
   "nbconvert_exporter": "python",
   "pygments_lexer": "ipython3",
   "version": "3.7.4"
  }
 },
 "nbformat": 4,
 "nbformat_minor": 2
}
